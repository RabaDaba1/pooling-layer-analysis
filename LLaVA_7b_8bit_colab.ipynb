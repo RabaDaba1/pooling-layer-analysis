{
  "cells": [
    {
      "cell_type": "markdown",
      "metadata": {
        "id": "view-in-github",
        "colab_type": "text"
      },
      "source": [
        "<a href=\"https://colab.research.google.com/github/RabaDaba1/pooling-layer-analysis/blob/main/LLaVA_7b_8bit_colab.ipynb\" target=\"_parent\"><img src=\"https://colab.research.google.com/assets/colab-badge.svg\" alt=\"Open In Colab\"/></a>"
      ]
    },
    {
      "cell_type": "code",
      "execution_count": null,
      "metadata": {
        "id": "VjYy0F2gZIPR"
      },
      "outputs": [],
      "source": [
        "%cd /content # Cambia el directorio actual a /content, que es donde normalmente se trabaja en Colab.\n",
        "!git clone -b 5GB https://github.com/camenduru/LLaVA # Clona el repositorio de LLaVA, versión \"5GB\" (una versión optimizada y más ligera del modelo llava-v1.5-7b).\n",
        "%cd /content/LLaVA # Entra en la carpeta del repositorio que se acaba de clonar.\n",
        "\n",
        "!pip install -q transformers==4.36.2 # Instala la versión específica de transformers, necesaria para LLaVA.\n",
        "!pip install ninja # Instala ninja, una herramienta de compilación rápida usada por PyTorch y otras bibliotecas.\n",
        "!pip install flash-attn --no-build-isolation # Instala flash-attn, una implementación optimizada de atención para modelos grandes.\n",
        "\n",
        "!pip install -e . # Instala el propio repositorio LLaVA como un paquete editable.\n",
        "\n",
        "# !python -m llava.serve.cli \\\n",
        "#     --model-path 4bit/llava-v1.5-7b-5GB \\\n",
        "#     --image-file \"https://llava-vl.github.io/static/images/view.jpg\" \\\n",
        "#     --load-8bit"
      ]
    },
    {
      "cell_type": "code",
      "execution_count": null,
      "metadata": {
        "id": "hybZRKnAufIy"
      },
      "outputs": [],
      "source": [
        "import threading\n",
        "import subprocess\n",
        "threading.Thread(target=lambda: subprocess.run(['python3', '-m', 'llava.serve.controller', '--host', '0.0.0.0', '--port', '10000'], check=True), daemon=True).start()\n",
        "# Inicia el controller, un servidor que coordina las peticiones entre los distintos procesos (modelo, interfaz, etc.)."
      ]
    },
    {
      "cell_type": "code",
      "execution_count": null,
      "metadata": {
        "id": "Gn3IHbBJufI0"
      },
      "outputs": [],
      "source": [
        "import threading\n",
        "import subprocess\n",
        "command = [\n",
        "    'python3', '-m', 'llava.serve.model_worker',\n",
        "    '--host', '0.0.0.0',\n",
        "    '--controller', 'http://localhost:10000',\n",
        "    '--port', '40000',\n",
        "    '--worker', 'http://localhost:40000',\n",
        "    '--model-path', '4bit/llava-v1.5-7b-5GB',\n",
        "    '--load-8bit'\n",
        "]\n",
        "threading.Thread(target=lambda: subprocess.run(command, check=True, shell=False), daemon=True).start()\n",
        "# Lanza el model_worker, que es el servidor que carga y ejecuta el modelo.\n",
        "# Usa la versión 4bit (cuantizada, ligera) de llava-v1.5-7b-5GB.\n",
        "# Aunque el path se llama “4bit”, usa --load-8bit, lo cual puede ser una inconsistencia o simplemente una forma de decirle que use cuantización ligera."
      ]
    },
    {
      "cell_type": "code",
      "execution_count": null,
      "metadata": {
        "id": "9FxIyw0QufI2"
      },
      "outputs": [],
      "source": [
        "!python3 -m llava.serve.gradio_web_server --controller http://localhost:10000 --model-list-mode reload --share\n",
        "# Lanza la interfaz Gradio para que puedas interactuar con el modelo desde el navegador.\n",
        "# --share hace que se cree un enlace público (útil en Colab) para que accedas desde fuera del entorno."
      ]
    }
  ],
  "metadata": {
    "accelerator": "GPU",
    "colab": {
      "gpuType": "T4",
      "provenance": [],
      "include_colab_link": true
    },
    "kernelspec": {
      "display_name": "Python 3",
      "name": "python3"
    },
    "language_info": {
      "name": "python"
    }
  },
  "nbformat": 4,
  "nbformat_minor": 0
}